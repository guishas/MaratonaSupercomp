{
  "cells": [
    {
      "cell_type": "code",
      "execution_count": 1,
      "metadata": {
        "id": "Qm83vCfjZp1p"
      },
      "outputs": [],
      "source": [
        "!g++ -lstdc++fs -std=c++17 -I/usr/local/Cellar/boost/1.75.0/include -L/usr/local/Cellar/boost/1.75.0/lib -lboost_random inputgen.cpp -o inputgen"
      ]
    },
    {
      "cell_type": "code",
      "execution_count": 2,
      "metadata": {
        "id": "ZZmxeAwYY-ts"
      },
      "outputs": [],
      "source": [
        "# Código para gerar arquivos de input\n",
        "\n",
        "nm = [5, 10, 15, 20, 25]\n",
        "nc = [2, 3, 4, 5, 6]\n",
        "\n",
        "for n in nm:\n",
        "  for c in nc:\n",
        "    !./inputgen {n} {c} input-{n}-{c}.txt"
      ]
    },
    {
      "cell_type": "code",
      "execution_count": 3,
      "metadata": {
        "id": "gCdFVJgsgAkI"
      },
      "outputs": [],
      "source": [
        "!g++ -lstdc++fs -std=c++17 -fopenmp -Wl,-z,stack-size=6000000000 exaustiva_openmp.cpp -o exaustiva_openmp"
      ]
    },
    {
      "cell_type": "code",
      "execution_count": 4,
      "metadata": {
        "id": "sgG0_r8gY-tv"
      },
      "outputs": [],
      "source": [
        "# Código para medir tempo de execução de um arquivo e guardar os outputs (feito diretamente pelo código em C++)\n",
        "import time\n",
        "import os\n",
        "\n",
        "inputs = os.listdir(\"inputs/\")\n",
        "\n",
        "tempo_exaustiva_openmp = {}\n",
        "\n",
        "for input in inputs:\n",
        "  if input.startswith(\".\"):\n",
        "    continue\n",
        "  else:\n",
        "    start = time.time()\n",
        "    !./exaustiva_openmp {input} < inputs/{input}\n",
        "    tempo_exaustiva_openmp[input.replace(\"input-\", \"\").replace(\".txt\", \"\")] = time.time() - start"
      ]
    },
    {
      "cell_type": "code",
      "source": [
        "!nvcc -arch=sm_70 -rdc=true -lstdc++fs -std=c++17 -o exaustiva_thrust exaustiva.cu"
      ],
      "metadata": {
        "id": "3zM3W9PuqJMy"
      },
      "execution_count": 5,
      "outputs": []
    },
    {
      "cell_type": "code",
      "source": [
        "import time\n",
        "import os\n",
        "\n",
        "inputs = os.listdir(\"inputs/\")\n",
        "\n",
        "tempo_exaustiva_thrust = {}\n",
        "\n",
        "for input in inputs:\n",
        "  if input.startswith(\".\"):\n",
        "    continue\n",
        "  else:\n",
        "    start = time.time()\n",
        "    !./exaustiva_thrust {input} < inputs/{input}\n",
        "    tempo_exaustiva_thrust[input.replace(\"input-\", \"\").replace(\".txt\", \"\")] = time.time() - start"
      ],
      "metadata": {
        "id": "B1SYrexa5th4"
      },
      "execution_count": 6,
      "outputs": []
    },
    {
      "cell_type": "code",
      "source": [
        "print(tempo_exaustiva_thrust)"
      ],
      "metadata": {
        "colab": {
          "base_uri": "https://localhost:8080/"
        },
        "id": "0bPHyNGR_Nwx",
        "outputId": "03c2bdc8-230c-4f58-a4ea-ac064e66edff"
      },
      "execution_count": 7,
      "outputs": [
        {
          "output_type": "stream",
          "name": "stdout",
          "text": [
            "{'25-6': 1.8135950565338135, '20-3': 0.3042457103729248, '15-2': 0.30408811569213867, '25-2': 1.8222167491912842, '20-4': 0.3036031723022461, '5-2': 0.3038203716278076, '5-6': 0.31490230560302734, '20-2': 0.3039109706878662, '15-4': 0.304088830947876, '10-5': 0.3046302795410156, '15-3': 0.30388665199279785, '10-4': 0.20373821258544922, '25-4': 1.7128229141235352, '15-6': 0.30449628829956055, '10-3': 0.30408787727355957, '25-3': 1.6128690242767334, '5-5': 0.20350193977355957, '10-6': 0.20386266708374023, '5-3': 0.20370841026306152, '10-2': 0.20337224006652832, '15-5': 0.2035675048828125, '20-6': 0.3066267967224121, '20-5': 0.30403947830200195, '25-5': 1.7084369659423828, '5-4': 0.30791735649108887}\n"
          ]
        }
      ]
    },
    {
      "cell_type": "code",
      "source": [
        "# Código para gerar arquivo CSV com todas as informações necessárias para análise\n",
        "\n",
        "import csv\n",
        "import os\n",
        "\n",
        "outputs = os.listdir(\"outputs/\")\n",
        "print(outputs)\n",
        "\n",
        "with open(\"data.csv\", \"w\") as f:\n",
        "  print(\"abriu\")\n",
        "  w = csv.writer(f)\n",
        "  w.writerow([\"abordagem\", \"num_filmes\", \"num_categoriar\", \"filmes_escolhidos\", \"runtime\"])\n",
        "\n",
        "  for out in outputs:\n",
        "    with open(\"outputs/\" + out, \"r\") as o:\n",
        "      escolhidos = o.readline().strip(\"\\n\")\n",
        "\n",
        "    ab = out.split(\"-\")[2]\n",
        "    n_movies = out.split(\"-\")[3]\n",
        "    n_cat = out.split(\"-\")[4].replace(\".txt\", \"\")\n",
        "    nmc = out.split(\"-\")\n",
        "    key = nmc[3] + \"-\" + nmc[4].replace(\".txt\", \"\")\n",
        "    if ab == \"thrust\":\n",
        "      t = tempo_exaustiva_thrust[key]\n",
        "    else:\n",
        "      t = tempo_exaustiva_thrust[key]\n",
        "\n",
        "    w.writerow([ab, n_movies, n_cat, escolhidos, t])\n"
      ],
      "metadata": {
        "colab": {
          "base_uri": "https://localhost:8080/"
        },
        "id": "ThMUZXtcAVjZ",
        "outputId": "913d7ddd-b0ad-4aac-f862-4b3cd68a065b"
      },
      "execution_count": 8,
      "outputs": [
        {
          "output_type": "stream",
          "name": "stdout",
          "text": [
            "['output-exaustiva-thrust-5-6.txt', 'output-exaustiva-thrust-25-2.txt', 'output-exaustiva-openmp-10-6.txt', 'output-exaustiva-thrust-25-6.txt', 'output-exaustiva-thrust-10-5.txt', 'output-exaustiva-openmp-5-5.txt', 'output-exaustiva-thrust-5-4.txt', 'output-exaustiva-openmp-10-5.txt', 'output-exaustiva-openmp-25-4.txt', 'output-exaustiva-thrust-15-5.txt', 'output-exaustiva-thrust-20-6.txt', 'output-exaustiva-openmp-15-5.txt', 'output-exaustiva-openmp-5-3.txt', 'output-exaustiva-openmp-15-3.txt', 'output-exaustiva-thrust-10-4.txt', 'output-exaustiva-openmp-25-3.txt', 'output-exaustiva-openmp-15-4.txt', 'output-exaustiva-openmp-25-2.txt', 'output-exaustiva-openmp-5-6.txt', 'output-exaustiva-thrust-15-3.txt', 'output-exaustiva-thrust-20-4.txt', 'output-exaustiva-thrust-20-5.txt', 'output-exaustiva-openmp-20-4.txt', 'output-exaustiva-openmp-25-6.txt', 'output-exaustiva-openmp-20-3.txt', 'output-exaustiva-thrust-25-5.txt', 'output-exaustiva-openmp-15-2.txt', 'output-exaustiva-thrust-5-2.txt', 'output-exaustiva-openmp-5-2.txt', 'output-exaustiva-thrust-25-4.txt', 'output-exaustiva-openmp-5-4.txt', 'output-exaustiva-openmp-25-5.txt', 'output-exaustiva-thrust-5-5.txt', 'output-exaustiva-thrust-15-4.txt', 'output-exaustiva-openmp-20-6.txt', 'output-exaustiva-openmp-10-2.txt', 'output-exaustiva-openmp-15-6.txt', 'output-exaustiva-thrust-25-3.txt', 'output-exaustiva-thrust-15-2.txt', 'output-exaustiva-thrust-15-6.txt', 'output-exaustiva-thrust-20-3.txt', 'output-exaustiva-openmp-20-2.txt', 'output-exaustiva-thrust-20-2.txt', 'output-exaustiva-thrust-5-3.txt', 'output-exaustiva-openmp-10-4.txt', 'output-exaustiva-openmp-20-5.txt', 'output-exaustiva-thrust-10-6.txt', 'output-exaustiva-thrust-10-2.txt', 'output-exaustiva-thrust-10-3.txt', 'output-exaustiva-openmp-10-3.txt']\n",
            "abriu\n"
          ]
        }
      ]
    },
    {
      "cell_type": "code",
      "source": [
        "import shutil\n",
        "\n",
        "# Specify the path of the folder you want to zip and download\n",
        "folder_path = \"inputs/\"\n",
        "\n",
        "# Zip the renamed folder\n",
        "shutil.make_archive(\"input\", \"zip\", folder_path)"
      ],
      "metadata": {
        "colab": {
          "base_uri": "https://localhost:8080/",
          "height": 35
        },
        "id": "ZhayEnTqGgN6",
        "outputId": "58c96632-168e-4ca9-df94-477ffb0d479f"
      },
      "execution_count": 11,
      "outputs": [
        {
          "output_type": "execute_result",
          "data": {
            "text/plain": [
              "'/content/input.zip'"
            ],
            "application/vnd.google.colaboratory.intrinsic+json": {
              "type": "string"
            }
          },
          "metadata": {},
          "execution_count": 11
        }
      ]
    },
    {
      "cell_type": "code",
      "source": [],
      "metadata": {
        "id": "U62AN8VpOSRn"
      },
      "execution_count": null,
      "outputs": []
    }
  ],
  "metadata": {
    "colab": {
      "provenance": [],
      "gpuType": "T4"
    },
    "kernelspec": {
      "display_name": "Python 3",
      "name": "python3"
    },
    "language_info": {
      "codemirror_mode": {
        "name": "ipython",
        "version": 3
      },
      "file_extension": ".py",
      "mimetype": "text/x-python",
      "name": "python",
      "nbconvert_exporter": "python",
      "pygments_lexer": "ipython3",
      "version": "3.10.6"
    },
    "orig_nbformat": 4,
    "accelerator": "GPU"
  },
  "nbformat": 4,
  "nbformat_minor": 0
}