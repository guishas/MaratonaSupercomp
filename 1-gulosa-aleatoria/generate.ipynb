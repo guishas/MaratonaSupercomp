{
  "cells": [
    {
      "cell_type": "code",
      "execution_count": 1,
      "metadata": {
        "id": "Qm83vCfjZp1p"
      },
      "outputs": [],
      "source": [
        "!g++ -lstdc++fs -std=c++17 -I/usr/local/Cellar/boost/1.75.0/include -L/usr/local/Cellar/boost/1.75.0/lib -lboost_random inputgen.cpp -o inputgen"
      ]
    },
    {
      "cell_type": "code",
      "execution_count": 2,
      "metadata": {
        "id": "ZZmxeAwYY-ts"
      },
      "outputs": [],
      "source": [
        "# Código para gerar arquivos de input\n",
        "\n",
        "nm = [10, 100, 1000, 100000, 10000000]\n",
        "nc = [2, 5, 10, 20, 100]\n",
        "\n",
        "for n in nm:\n",
        "    for c in nc:\n",
        "        !./inputgen {n} {c} input-{n}-{c}.txt"
      ]
    },
    {
      "cell_type": "code",
      "execution_count": 3,
      "metadata": {
        "id": "gCdFVJgsgAkI"
      },
      "outputs": [],
      "source": [
        "!g++ -lstdc++fs -std=c++17 gulosa.cpp -o gulosa\n",
        "!g++ -lstdc++fs -std=c++17 aleatoria.cpp -o aleatoria"
      ]
    },
    {
      "cell_type": "code",
      "execution_count": 4,
      "metadata": {
        "id": "sgG0_r8gY-tv"
      },
      "outputs": [],
      "source": [
        "# Código para medir tempo de execução de um arquivo e guardar os outputs (feito diretamente pelo código em C++)\n",
        "import time\n",
        "import os\n",
        "\n",
        "inputs = os.listdir(\"inputs/\")\n",
        "\n",
        "tempo_gulosa = {}\n",
        "tempo_aleatoria = {}\n",
        "\n",
        "for input in inputs:\n",
        "    start = time.time()\n",
        "    !./gulosa {input} < inputs/{input}\n",
        "    tempo_gulosa[input.replace(\"input-\", \"\")] = time.time() - start\n",
        "\n",
        "    start = time.time()\n",
        "    !./aleatoria {input} < inputs/{input}\n",
        "    tempo_aleatoria[input.replace(\"input-\", \"\")] = time.time() - start"
      ]
    },
    {
      "cell_type": "code",
      "execution_count": 6,
      "metadata": {
        "id": "6z1KFr6fY-tv"
      },
      "outputs": [],
      "source": [
        "# Código para gerar arquivo CSV com todas as informações necessárias para análise\n",
        "\n",
        "import csv\n",
        "\n",
        "outputs = os.listdir(\"outputs/\")\n",
        "\n",
        "with open(\"summary.csv\", \"w\") as fcsv:\n",
        "    fwriter = csv.writer(fcsv)\n",
        "    fwriter.writerow([\"heuristic\", \"nFilmes\", \"nCategorias\", \"tGulosa\", \"tAleatoria\", \"ncFilmes\", \"screenTime\"])\n",
        "\n",
        "    for output in outputs:\n",
        "        h = output.split(\"-\")[1]\n",
        "        nFilmes = output.split(\"-\")[2]\n",
        "        nCat = output.split(\"-\")[3].replace(\".txt\", \"\")\n",
        "        fns = output.split(\"-\")\n",
        "        fn = fns[2] + \"-\" + fns[3]\n",
        "        tGulosa = tempo_gulosa[fn]\n",
        "        tAleatoria = tempo_aleatoria[fn]\n",
        "        with open(\"outputs/\" + output, \"r\") as f:\n",
        "            ncFilmes = f.readline().strip(\"\\n\")\n",
        "            screenTime = f.readline().strip(\"\\n\")\n",
        "\n",
        "            fwriter.writerow([h, nFilmes, nCat, tGulosa, tAleatoria, ncFilmes, screenTime])"
      ]
    },
    {
      "cell_type": "code",
      "execution_count": null,
      "metadata": {},
      "outputs": [],
      "source": []
    }
  ],
  "metadata": {
    "colab": {
      "provenance": []
    },
    "gpuClass": "standard",
    "kernelspec": {
      "display_name": "Python 3",
      "name": "python3"
    },
    "language_info": {
      "codemirror_mode": {
        "name": "ipython",
        "version": 3
      },
      "file_extension": ".py",
      "mimetype": "text/x-python",
      "name": "python",
      "nbconvert_exporter": "python",
      "pygments_lexer": "ipython3",
      "version": "3.10.6"
    },
    "orig_nbformat": 4
  },
  "nbformat": 4,
  "nbformat_minor": 0
}
